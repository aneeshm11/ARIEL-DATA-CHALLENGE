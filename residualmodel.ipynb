{
 "cells": [
  {
   "cell_type": "code",
   "execution_count": null,
   "metadata": {
    "_cell_guid": "b1076dfc-b9ad-4769-8c92-a6c4dae69d19",
    "_uuid": "8f2839f25d086af736a60e9eeb907d3b93b6e0e5",
    "execution": {
     "iopub.execute_input": "2024-10-23T18:03:15.213102Z",
     "iopub.status.busy": "2024-10-23T18:03:15.212431Z",
     "iopub.status.idle": "2024-10-23T18:03:20.144170Z",
     "shell.execute_reply": "2024-10-23T18:03:20.142962Z",
     "shell.execute_reply.started": "2024-10-23T18:03:15.213050Z"
    },
    "trusted": true
   },
   "outputs": [],
   "source": [
    "import torch\n",
    "import torch.nn as nn\n",
    "import torch.optim as optim\n",
    "from torch.utils.data import Dataset, DataLoader\n",
    "import numpy as np\n",
    "import torch.optim as optim\n",
    "import os \n",
    "import pandas as pd \n",
    "import matplotlib.pyplot as plt\n",
    "from scipy.signal import savgol_filter\n"
   ]
  },
  {
   "cell_type": "code",
   "execution_count": null,
   "metadata": {
    "execution": {
     "iopub.execute_input": "2024-10-23T18:26:40.640656Z",
     "iopub.status.busy": "2024-10-23T18:26:40.640257Z",
     "iopub.status.idle": "2024-10-23T18:26:40.659813Z",
     "shell.execute_reply": "2024-10-23T18:26:40.658707Z",
     "shell.execute_reply.started": "2024-10-23T18:26:40.640620Z"
    },
    "trusted": true
   },
   "outputs": [],
   "source": [
    "ar1= np.load(\"/kaggle/input/tempnigga/output.npy\")\n",
    "print(ar1[0][:5])\n",
    "ar= np.load(\"/kaggle/input/tempnigga/scales_smooth.npy\")\n",
    "print(ar[0][:5])"
   ]
  },
  {
   "cell_type": "code",
   "execution_count": null,
   "metadata": {
    "_cell_guid": "b1076dfc-b9ad-4769-8c92-a6c4dae69d19",
    "_uuid": "8f2839f25d086af736a60e9eeb907d3b93b6e0e5",
    "execution": {
     "iopub.execute_input": "2024-10-23T18:03:20.229423Z",
     "iopub.status.busy": "2024-10-23T18:03:20.228803Z",
     "iopub.status.idle": "2024-10-23T18:03:20.239584Z",
     "shell.execute_reply": "2024-10-23T18:03:20.238410Z",
     "shell.execute_reply.started": "2024-10-23T18:03:20.229387Z"
    },
    "trusted": true
   },
   "outputs": [],
   "source": [
    "class ResidualModel(nn.Module):\n",
    "    def __init__(self):\n",
    "        super(ResidualModel, self).__init__()\n",
    "        self.fc0 = nn.Linear(24, 48)\n",
    "        self.fc1 = nn.Linear(48, 64)\n",
    "        self.fc2 = nn.Linear(64, 128)\n",
    "        self.fc3 = nn.Linear(128, 256)\n",
    "        self.fc4 = nn.Linear(256, 283)\n",
    "        self.relu = nn.ReLU()\n",
    "\n",
    "    def forward(self, x):\n",
    "        x = self.relu(self.fc0(x))\n",
    "        x = self.relu(self.fc1(x))\n",
    "        x = self.relu(self.fc2(x))\n",
    "        x = self.relu(self.fc3(x))\n",
    "        x = self.fc4(x)\n",
    "        return x\n"
   ]
  },
  {
   "cell_type": "code",
   "execution_count": null,
   "metadata": {
    "execution": {
     "iopub.execute_input": "2024-10-23T18:03:20.241298Z",
     "iopub.status.busy": "2024-10-23T18:03:20.240936Z",
     "iopub.status.idle": "2024-10-23T18:03:20.255685Z",
     "shell.execute_reply": "2024-10-23T18:03:20.254525Z",
     "shell.execute_reply.started": "2024-10-23T18:03:20.241237Z"
    },
    "trusted": true
   },
   "outputs": [],
   "source": [
    "class ResidualDataset(Dataset):\n",
    "    def __init__(self, inputs , outputs):\n",
    "        self.inputs = torch.FloatTensor(inputs)\n",
    "        self.outputs = torch.FloatTensor(outputs)\n",
    "\n",
    "    def __len__(self):\n",
    "        return len(self.inputs)\n",
    "\n",
    "    def __getitem__(self, idx):\n",
    "        return self.inputs[idx], self.outputs[idx]"
   ]
  },
  {
   "cell_type": "code",
   "execution_count": null,
   "metadata": {
    "_cell_guid": "b1076dfc-b9ad-4769-8c92-a6c4dae69d19",
    "_uuid": "8f2839f25d086af736a60e9eeb907d3b93b6e0e5",
    "execution": {
     "iopub.execute_input": "2024-10-23T18:03:20.258340Z",
     "iopub.status.busy": "2024-10-23T18:03:20.257827Z",
     "iopub.status.idle": "2024-10-23T18:03:20.331782Z",
     "shell.execute_reply": "2024-10-23T18:03:20.330768Z",
     "shell.execute_reply.started": "2024-10-23T18:03:20.258290Z"
    },
    "trusted": true
   },
   "outputs": [],
   "source": [
    "inputs = np.load(\"/kaggle/input/tempnigga/invecs.npy\")\n",
    "outputs = np.load('/kaggle/input/tempnigga/outscales.npy')"
   ]
  },
  {
   "cell_type": "code",
   "execution_count": null,
   "metadata": {
    "_cell_guid": "b1076dfc-b9ad-4769-8c92-a6c4dae69d19",
    "_uuid": "8f2839f25d086af736a60e9eeb907d3b93b6e0e5",
    "execution": {
     "iopub.execute_input": "2024-10-23T18:03:50.697489Z",
     "iopub.status.busy": "2024-10-23T18:03:50.696571Z",
     "iopub.status.idle": "2024-10-23T18:04:00.069479Z",
     "shell.execute_reply": "2024-10-23T18:04:00.068028Z",
     "shell.execute_reply.started": "2024-10-23T18:03:50.697448Z"
    },
    "trusted": true
   },
   "outputs": [],
   "source": [
    "device = torch.device(\"cuda\" if torch.cuda.is_available() else \"cpu\")\n",
    "model = ResidualModel().to(device)\n",
    "criterion = nn.MSELoss()\n",
    "optimizer = torch.optim.Adam(model.parameters(), lr=1e-2) \n",
    "scheduler = optim.lr_scheduler.ReduceLROnPlateau(optimizer, factor=0.5, patience=3 )\n",
    "\n",
    "# optimizer = torch.optim.SGD(model.parameters(), lr=1e-2, momentum=0.9)\n",
    "# scheduler = optim.lr_scheduler.ReduceLROnPlateau(optimizer, factor=0.5, patience=3)\n",
    "\n",
    "\n",
    "train_dataset = ResidualDataset(inputs[:640], outputs[:640])\n",
    "val_dataset = ResidualDataset(inputs[651:671], outputs[651:671])\n",
    "\n",
    "train_loader = DataLoader(train_dataset, batch_size=32, shuffle=True , num_workers=4)\n",
    "val_loader = DataLoader(val_dataset, batch_size=2, shuffle=False  , num_workers=4)\n",
    "\n",
    "\n",
    "num_epochs = 261\n",
    "start_epoch = 0\n",
    "best_val_loss = float('inf')\n",
    "patience = 15\n",
    "no_improve = 0\n",
    "count=0\n",
    "\n",
    "print(\"Training started\")\n",
    "for epoch in range(start_epoch, num_epochs):\n",
    "    model.train()\n",
    "    train_loss = 0.0\n",
    "    \n",
    "    for inputs, targets in train_loader:\n",
    "        inputs, targets = inputs.to(device), targets.to(device)\n",
    "        \n",
    "        optimizer.zero_grad()\n",
    "        outs = model(inputs)\n",
    "        loss = criterion(outs, targets)\n",
    "        loss.backward()\n",
    "        optimizer.step()\n",
    "        \n",
    "        train_loss += loss.item() \n",
    "    \n",
    "    train_loss /= len(train_dataset)\n",
    "      \n",
    "\n",
    "    model.eval()\n",
    "    val_loss = 0.0\n",
    "    with torch.no_grad():\n",
    "        for inputs, targets in val_loader:\n",
    "            inputs, targets = inputs.to(device), targets.to(device)\n",
    "            outs = model(inputs)\n",
    "\n",
    "            loss = criterion(outs, targets)\n",
    "            val_loss += loss.item() \n",
    "    \n",
    "    val_loss /= len(val_dataset)\n",
    "    \n",
    "\n",
    "    scheduler.step(val_loss)\n",
    "    \n",
    "#     if no_improve==7 and count==0 and optimizer.param_groups[0]['lr'] > 1e-6:\n",
    "#         for param_group in optimizer.param_groups:\n",
    "#             param_group['lr'] = 1e-9\n",
    "#             print(f\"Learning rate manually set to 5e-7 at epoch {epoch}\")\n",
    "#         count+=1\n",
    "\n",
    "        \n",
    "    print(f\"Epoch {epoch+1}/{num_epochs}, Train Loss: {train_loss:.6f}, Val Loss: {val_loss:.6f}\")\n",
    "    \n",
    "    if val_loss < best_val_loss :\n",
    "        best_val_loss = val_loss\n",
    "        no_improve = 0\n",
    "        model_filename = f\"epoch{epoch+1}.pth\"\n",
    "        model_path = os.path.join(\".\", model_filename)\n",
    "        \n",
    "        checkpoint = {\n",
    "            'epoch': epoch,\n",
    "            'model_state_dict': model.state_dict(),\n",
    "            'optimizer_state_dict': optimizer.state_dict(),\n",
    "            'scheduler_state_dict': scheduler.state_dict(),\n",
    "            'loss': train_loss,\n",
    "        }\n",
    "        torch.save(checkpoint, model_path)        \n",
    "        print(f\"Model saved at epoch {epoch+1}\")\n",
    "        \n",
    "    else:\n",
    "        no_improve += 1\n",
    "        if no_improve == patience:\n",
    "            print(f\"Early stopping triggered at epoch {epoch+1}\")\n",
    "            break\n",
    "\n",
    "print(\"Training completed\")"
   ]
  },
  {
   "cell_type": "code",
   "execution_count": null,
   "metadata": {
    "execution": {
     "iopub.execute_input": "2024-10-23T16:56:09.139006Z",
     "iopub.status.busy": "2024-10-23T16:56:09.138559Z",
     "iopub.status.idle": "2024-10-23T16:56:09.145092Z",
     "shell.execute_reply": "2024-10-23T16:56:09.143990Z",
     "shell.execute_reply.started": "2024-10-23T16:56:09.138965Z"
    },
    "trusted": true
   },
   "outputs": [],
   "source": [
    "print(targets.shape)\n",
    "print(optimizer.param_groups[0][\"lr\"])"
   ]
  },
  {
   "cell_type": "code",
   "execution_count": null,
   "metadata": {
    "execution": {
     "iopub.execute_input": "2024-10-23T17:55:31.516261Z",
     "iopub.status.busy": "2024-10-23T17:55:31.515781Z",
     "iopub.status.idle": "2024-10-23T17:55:32.684368Z",
     "shell.execute_reply": "2024-10-23T17:55:32.682852Z",
     "shell.execute_reply.started": "2024-10-23T17:55:31.516214Z"
    },
    "trusted": true
   },
   "outputs": [],
   "source": [
    "! rm -rf \"/kaggle/working/\""
   ]
  },
  {
   "cell_type": "code",
   "execution_count": null,
   "metadata": {
    "execution": {
     "iopub.execute_input": "2024-10-23T17:57:51.181822Z",
     "iopub.status.busy": "2024-10-23T17:57:51.181291Z",
     "iopub.status.idle": "2024-10-23T17:57:51.189830Z",
     "shell.execute_reply": "2024-10-23T17:57:51.188479Z",
     "shell.execute_reply.started": "2024-10-23T17:57:51.181768Z"
    },
    "trusted": true
   },
   "outputs": [],
   "source": [
    "print(os.listdir(\"/kaggle/working\"))"
   ]
  },
  {
   "cell_type": "code",
   "execution_count": null,
   "metadata": {
    "execution": {
     "iopub.execute_input": "2024-10-23T18:04:12.124744Z",
     "iopub.status.busy": "2024-10-23T18:04:12.123824Z",
     "iopub.status.idle": "2024-10-23T18:04:12.315131Z",
     "shell.execute_reply": "2024-10-23T18:04:12.314054Z",
     "shell.execute_reply.started": "2024-10-23T18:04:12.124686Z"
    },
    "trusted": true
   },
   "outputs": [],
   "source": [
    "outputs = np.load(\"/kaggle/input/tempnigga/a24_norm.npy\")\n",
    "\n",
    "labels = pd.read_csv(\"/kaggle/input/tempnigga/train_labels.csv\")\n",
    "labels = np.array(labels)\n",
    "\n",
    "\n",
    "vals    = np.load('/kaggle/input/tempnigga/outputs.npy')\n",
    "offsets = np.load('/kaggle/input/tempnigga/outscales.npy')\n",
    "\n",
    "index = 671\n",
    "inp = outputs[index]\n",
    "value = vals[index]\n",
    "true = labels[index][1:]\n",
    "\n",
    "device = torch.device(\"cuda\" if torch.cuda.is_available() else \"cpu\")\n",
    "model = ResidualModel().to(device)\n",
    "\n",
    "weights=\"/kaggle/working/epoch11.pth\"\n",
    "\n",
    "print(inp.shape)\n",
    "print(value.shape)\n",
    "print(true.shape)\n",
    "if weights:\n",
    "    checkpoint = torch.load(weights, map_location=device , weights_only=True)\n",
    "    model.load_state_dict(checkpoint['model_state_dict'])\n",
    "\n",
    "model.eval()\n",
    "\n",
    "\n",
    "with torch.no_grad():\n",
    "    pred_scales = model(torch.tensor(inp).float())\n",
    "\n",
    "\n",
    "# result = pred_scales[0] * value\n",
    "result =  value /  pred_scales[0]\n",
    "\n",
    "\n",
    "\n",
    "print(criterion(torch.tensor(result).unsqueeze(0) , torch.tensor(true).unsqueeze(0)))\n",
    "\n",
    "# result = savgol_filter(result , 15 , 1)\n",
    "\n",
    "# print(criterion(torch.tensor(result).unsqueeze(0) , torch.tensor(true).unsqueeze(0)))\n",
    "print(criterion(torch.tensor(value).unsqueeze(0) , torch.tensor(true).unsqueeze(0)))\n",
    "\n",
    "\n"
   ]
  },
  {
   "cell_type": "code",
   "execution_count": null,
   "metadata": {
    "execution": {
     "iopub.execute_input": "2024-10-22T04:09:33.338159Z",
     "iopub.status.busy": "2024-10-22T04:09:33.337702Z",
     "iopub.status.idle": "2024-10-22T04:09:33.345359Z",
     "shell.execute_reply": "2024-10-22T04:09:33.343589Z",
     "shell.execute_reply.started": "2024-10-22T04:09:33.338121Z"
    },
    "trusted": true
   },
   "outputs": [],
   "source": [
    "torch.set_printoptions(precision=10)\n",
    "print(type(pred_scales))"
   ]
  },
  {
   "cell_type": "code",
   "execution_count": null,
   "metadata": {
    "execution": {
     "iopub.execute_input": "2024-10-23T17:47:38.614767Z",
     "iopub.status.busy": "2024-10-23T17:47:38.614325Z",
     "iopub.status.idle": "2024-10-23T17:47:38.625729Z",
     "shell.execute_reply": "2024-10-23T17:47:38.624353Z",
     "shell.execute_reply.started": "2024-10-23T17:47:38.614725Z"
    },
    "trusted": true
   },
   "outputs": [],
   "source": [
    "print(result[:5])\n",
    "print(value[:5])\n",
    "print(pred_scales[0][:5])\n",
    "\n",
    "print()\n",
    "print(true[:5])\n",
    "\n"
   ]
  },
  {
   "cell_type": "code",
   "execution_count": null,
   "metadata": {},
   "outputs": [],
   "source": [
    "tensor([0.0009970770, 0.0010203157, 0.0010123271, 0.0010105158, 0.0010154062])\n",
    "[0.00165169 0.00176206 0.00177774 0.00163459 0.00168567]\n",
    "tensor([1.6565283537, 1.7269738913, 1.7560904026, 1.6175847054, 1.6600964069])\n",
    "\n",
    "[0.00108574 0.00113749 0.00113136 0.00112386 0.00113836]\n"
   ]
  }
 ],
 "metadata": {
  "kaggle": {
   "accelerator": "none",
   "dataSources": [
    {
     "datasetId": 5912377,
     "sourceId": 9704034,
     "sourceType": "datasetVersion"
    }
   ],
   "dockerImageVersionId": 30786,
   "isGpuEnabled": false,
   "isInternetEnabled": true,
   "language": "python",
   "sourceType": "notebook"
  },
  "kernelspec": {
   "display_name": "Python 3",
   "language": "python",
   "name": "python3"
  },
  "language_info": {
   "codemirror_mode": {
    "name": "ipython",
    "version": 3
   },
   "file_extension": ".py",
   "mimetype": "text/x-python",
   "name": "python",
   "nbconvert_exporter": "python",
   "pygments_lexer": "ipython3",
   "version": "3.10.14"
  }
 },
 "nbformat": 4,
 "nbformat_minor": 4
}
